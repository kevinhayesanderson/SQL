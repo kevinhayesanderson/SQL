{
    "metadata": {
        "kernelspec": {
            "name": "SQL",
            "display_name": "SQL",
            "language": "sql"
        },
        "language_info": {
            "name": "sql",
            "version": ""
        }
    },
    "nbformat_minor": 2,
    "nbformat": 4,
    "cells": [
        {
            "cell_type": "markdown",
            "source": [
                "SUM"
            ],
            "metadata": {
                "azdata_cell_guid": "2da0e0f2-0820-4274-b1fa-3282b5499347"
            },
            "attachments": {}
        },
        {
            "cell_type": "code",
            "source": [
                "SELECT \n",
                "    SUM(freight)  as total_freight\n",
                "FROM dbo.orders;\n",
                "\n",
                "SELECT \n",
                "    SUM(freight) as total_freight,\n",
                "    SUM(shipvia) as total_ship\n",
                "FROM dbo.orders;\n",
                "\n",
                "SELECT \n",
                "    COUNT(freight) as total_freight\n",
                "FROM dbo.orders;"
            ],
            "metadata": {
                "azdata_cell_guid": "861d6ec7-aff4-46c5-89b5-b456c579c990",
                "language": "sql",
                "tags": []
            },
            "outputs": [],
            "execution_count": null
        },
        {
            "cell_type": "markdown",
            "source": [
                ""
            ],
            "metadata": {
                "azdata_cell_guid": "036ecc6c-b08f-4280-b309-3eef2210473d"
            }
        }
    ]
}